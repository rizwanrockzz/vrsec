{
  "cells": [
    {
      "cell_type": "markdown",
      "metadata": {
        "id": "oHAQuhSd0DaE"
      },
      "source": [
        "## Data collection"
      ]
    },
    {
      "cell_type": "code",
      "execution_count": null,
      "metadata": {
        "id": "xx2TjAex0DaF"
      },
      "outputs": [],
      "source": [
        "!wget -q https://git.io/J0fjL -O IAM_Words.zip\n",
        "!unzip -qq IAM_Words.zip\n",
        "!\n",
        "!mkdir data\n",
        "!mkdir data/words\n",
        "!tar -xf IAM_Words/words.tgz -C data/words\n",
        "!mv IAM_Words/words.txt data"
      ]
    },
    {
      "cell_type": "code",
      "source": [
        "ls data/words/a01/a01-000u"
      ],
      "metadata": {
        "colab": {
          "base_uri": "https://localhost:8080/"
        },
        "id": "6fXuplfKOLjN",
        "outputId": "28907de5-5dee-4f12-ef68-6483887143f9"
      },
      "execution_count": null,
      "outputs": [
        {
          "output_type": "stream",
          "name": "stdout",
          "text": [
            "a01-000u-00-00.png  a01-000u-02-00.png  a01-000u-03-04.png  a01-000u-05-03.png\n",
            "a01-000u-00-01.png  a01-000u-02-01.png  a01-000u-03-05.png  a01-000u-05-04.png\n",
            "a01-000u-00-02.png  a01-000u-02-02.png  a01-000u-03-06.png  a01-000u-05-05.png\n",
            "a01-000u-00-03.png  a01-000u-02-03.png  a01-000u-04-00.png  a01-000u-05-06.png\n",
            "a01-000u-00-04.png  a01-000u-02-04.png  a01-000u-04-01.png  a01-000u-05-07.png\n",
            "a01-000u-00-05.png  a01-000u-02-05.png  a01-000u-04-02.png  a01-000u-05-08.png\n",
            "a01-000u-00-06.png  a01-000u-02-06.png  a01-000u-04-03.png  a01-000u-06-00.png\n",
            "a01-000u-01-00.png  a01-000u-02-07.png  a01-000u-04-04.png  a01-000u-06-01.png\n",
            "a01-000u-01-01.png  a01-000u-02-08.png  a01-000u-04-05.png  a01-000u-06-02.png\n",
            "a01-000u-01-02.png  a01-000u-03-00.png  a01-000u-04-06.png  a01-000u-06-03.png\n",
            "a01-000u-01-03.png  a01-000u-03-01.png  a01-000u-05-00.png  a01-000u-06-04.png\n",
            "a01-000u-01-04.png  a01-000u-03-02.png  a01-000u-05-01.png  a01-000u-06-05.png\n",
            "a01-000u-01-05.png  a01-000u-03-03.png  a01-000u-05-02.png  a01-000u-06-06.png\n"
          ]
        }
      ]
    },
    {
      "cell_type": "markdown",
      "source": [],
      "metadata": {
        "id": "8gd3lLucC9f3"
      }
    },
    {
      "cell_type": "markdown",
      "metadata": {
        "id": "raoUeTs40DaH"
      },
      "source": [
        "Preview how the dataset is organized. Lines prepended by \"#\" are just metadata information."
      ]
    },
    {
      "cell_type": "code",
      "execution_count": null,
      "metadata": {
        "id": "RlKCqr9C0DaH",
        "colab": {
          "base_uri": "https://localhost:8080/"
        },
        "outputId": "21b2edfd-983d-44ea-a37c-dee6c23dbbee"
      },
      "outputs": [
        {
          "output_type": "stream",
          "name": "stdout",
          "text": [
            "#--- words.txt ---------------------------------------------------------------#\n",
            "#\n",
            "# iam database word information\n",
            "#\n",
            "# format: a01-000u-00-00 ok 154 1 408 768 27 51 AT A\n",
            "#\n",
            "#     a01-000u-00-00  -> word id for line 00 in form a01-000u\n",
            "#     ok              -> result of word segmentation\n",
            "#                            ok: word was correctly\n",
            "#                            er: segmentation of word can be bad\n",
            "#\n",
            "#     154             -> graylevel to binarize the line containing this word\n",
            "#     1               -> number of components for this word\n",
            "#     408 768 27 51   -> bounding box around this word in x,y,w,h format\n",
            "#     AT              -> the grammatical tag for this word, see the\n",
            "#                        file tagset.txt for an explanation\n",
            "#     A               -> the transcription for this word\n",
            "#\n",
            "a01-000u-00-00 ok 154 408 768 27 51 AT A\n",
            "a01-000u-00-01 ok 154 507 766 213 48 NN MOVE\n"
          ]
        }
      ],
      "source": [
        "!head -20 data/words.txt"
      ]
    },
    {
      "cell_type": "code",
      "source": [
        "# !head -20 tagset.txt\n",
        "!ls"
      ],
      "metadata": {
        "colab": {
          "base_uri": "https://localhost:8080/"
        },
        "id": "Xxh7eXG7PI6x",
        "outputId": "92734fdd-40c4-469b-8354-177fa130fe07"
      },
      "execution_count": null,
      "outputs": [
        {
          "output_type": "stream",
          "name": "stdout",
          "text": [
            "data  IAM_Words  IAM_Words.zip\tsample_data\n"
          ]
        }
      ]
    },
    {
      "cell_type": "markdown",
      "metadata": {
        "id": "sqR-fSou0DaI"
      },
      "source": [
        "## Imports"
      ]
    },
    {
      "cell_type": "code",
      "execution_count": null,
      "metadata": {
        "id": "GPCKRm9O0DaJ"
      },
      "outputs": [],
      "source": [
        "from tensorflow.keras.layers.experimental.preprocessing import StringLookup\n",
        "from tensorflow import keras\n",
        "\n",
        "import matplotlib.pyplot as plt\n",
        "import tensorflow as tf\n",
        "import numpy as np\n",
        "import os\n",
        "\n",
        "np.random.seed(42)\n",
        "tf.random.set_seed(42)"
      ]
    },
    {
      "cell_type": "markdown",
      "metadata": {
        "id": "CkUECYg40DaK"
      },
      "source": [
        "## Dataset splitting"
      ]
    },
    {
      "cell_type": "code",
      "execution_count": null,
      "metadata": {
        "id": "5s9INtI60DaK"
      },
      "outputs": [],
      "source": [
        "base_path = \"data\"\n",
        "words_list = []\n",
        "\n",
        "words = open(f\"{base_path}/words.txt\", \"r\").readlines()\n",
        "for line in words:\n",
        "    if line[0] == \"#\":\n",
        "        continue\n",
        "    if line.split(\" \")[1] != \"err\":  # We don't need to deal with errored entries.\n",
        "        words_list.append(line)\n",
        "\n",
        "len(words_list)\n",
        "# print(words_list[:100],end=\" \")\n",
        "np.random.shuffle(words_list)"
      ]
    },
    {
      "cell_type": "code",
      "source": [
        "len(words),len(words_list)"
      ],
      "metadata": {
        "colab": {
          "base_uri": "https://localhost:8080/"
        },
        "id": "Mw0biseFQe5_",
        "outputId": "403e74fa-af30-4f78-da7a-e6accf4e8ac8"
      },
      "execution_count": null,
      "outputs": [
        {
          "output_type": "execute_result",
          "data": {
            "text/plain": [
              "(115338, 96456)"
            ]
          },
          "metadata": {},
          "execution_count": 18
        }
      ]
    },
    {
      "cell_type": "code",
      "source": [
        "words[:30]"
      ],
      "metadata": {
        "colab": {
          "base_uri": "https://localhost:8080/"
        },
        "id": "vDylP-CqQoXK",
        "outputId": "bb2b0ee0-530b-4610-e5df-043f8c30a16c"
      },
      "execution_count": null,
      "outputs": [
        {
          "output_type": "execute_result",
          "data": {
            "text/plain": [
              "['#--- words.txt ---------------------------------------------------------------#\\n',\n",
              " '#\\n',\n",
              " '# iam database word information\\n',\n",
              " '#\\n',\n",
              " '# format: a01-000u-00-00 ok 154 1 408 768 27 51 AT A\\n',\n",
              " '#\\n',\n",
              " '#     a01-000u-00-00  -> word id for line 00 in form a01-000u\\n',\n",
              " '#     ok              -> result of word segmentation\\n',\n",
              " '#                            ok: word was correctly\\n',\n",
              " '#                            er: segmentation of word can be bad\\n',\n",
              " '#\\n',\n",
              " '#     154             -> graylevel to binarize the line containing this word\\n',\n",
              " '#     1               -> number of components for this word\\n',\n",
              " '#     408 768 27 51   -> bounding box around this word in x,y,w,h format\\n',\n",
              " '#     AT              -> the grammatical tag for this word, see the\\n',\n",
              " '#                        file tagset.txt for an explanation\\n',\n",
              " '#     A               -> the transcription for this word\\n',\n",
              " '#\\n',\n",
              " 'a01-000u-00-00 ok 154 408 768 27 51 AT A\\n',\n",
              " 'a01-000u-00-01 ok 154 507 766 213 48 NN MOVE\\n',\n",
              " 'a01-000u-00-02 ok 154 796 764 70 50 TO to\\n',\n",
              " 'a01-000u-00-03 ok 154 919 757 166 78 VB stop\\n',\n",
              " 'a01-000u-00-04 ok 154 1185 754 126 61 NPT Mr.\\n',\n",
              " 'a01-000u-00-05 ok 154 1438 746 382 73 NP Gaitskell\\n',\n",
              " 'a01-000u-00-06 ok 154 1896 757 173 72 IN from\\n',\n",
              " 'a01-000u-01-00 ok 156 395 932 441 100 VBG nominating\\n',\n",
              " 'a01-000u-01-01 ok 156 901 958 147 79 DTI any\\n',\n",
              " 'a01-000u-01-02 ok 156 1112 958 208 42 AP more\\n',\n",
              " 'a01-000u-01-03 ok 156 1400 937 294 59 NN Labour\\n',\n",
              " 'a01-000u-01-04 ok 156 1779 932 174 63 NN life\\n']"
            ]
          },
          "metadata": {},
          "execution_count": 19
        }
      ]
    },
    {
      "cell_type": "markdown",
      "metadata": {
        "id": "-bAZ0fuu0DaL"
      },
      "source": [
        "We will split the dataset into three subsets with a 90:5:5 ratio (train:validation:test)."
      ]
    },
    {
      "cell_type": "code",
      "execution_count": null,
      "metadata": {
        "id": "PDJqmUZK0DaL",
        "colab": {
          "base_uri": "https://localhost:8080/"
        },
        "outputId": "56b2ab3c-9502-4cde-d39b-fb6f9a1d89a9"
      },
      "outputs": [
        {
          "output_type": "stream",
          "name": "stdout",
          "text": [
            "Split index : 86810\n",
            "\n",
            "Total training samples: 86810\n",
            "Total validation samples: 4823\n",
            "Total test samples: 4823\n",
            "\n",
            "Assert Words list : 96456\n"
          ]
        }
      ],
      "source": [
        "split_idx = int(0.9 * len(words_list))\n",
        "print(f\"Split index : {split_idx}\\n\")\n",
        "train_samples = words_list[:split_idx]\n",
        "test_samples = words_list[split_idx:]\n",
        "\n",
        "val_split_idx = int(0.5 * len(test_samples))\n",
        "validation_samples = test_samples[:val_split_idx]\n",
        "test_samples = test_samples[val_split_idx:]\n",
        "\n",
        "assert len(words_list) == len(train_samples) + len(validation_samples) + len(\n",
        "    test_samples\n",
        ")\n",
        "\n",
        "print(f\"Total training samples: {len(train_samples)}\")\n",
        "print(f\"Total validation samples: {len(validation_samples)}\")\n",
        "print(f\"Total test samples: {len(test_samples)}\\n\")\n",
        "\n",
        "print(f\"Assert Words list : {len(words_list)}\")"
      ]
    },
    {
      "cell_type": "code",
      "source": [
        "len(test_samples)"
      ],
      "metadata": {
        "colab": {
          "base_uri": "https://localhost:8080/"
        },
        "id": "Hpm9dtLC0JIB",
        "outputId": "9b3e4620-905c-4b4c-a5eb-568bd62a7c9e"
      },
      "execution_count": null,
      "outputs": [
        {
          "output_type": "execute_result",
          "data": {
            "text/plain": [
              "4823"
            ]
          },
          "metadata": {},
          "execution_count": 52
        }
      ]
    },
    {
      "cell_type": "markdown",
      "metadata": {
        "id": "iITHuIyb0DaM"
      },
      "source": [
        "## Data input pipeline\n",
        "\n",
        "We start building our data input pipeline by first preparing the image paths."
      ]
    },
    {
      "cell_type": "code",
      "execution_count": null,
      "metadata": {
        "id": "PhvX_QSz0DaM",
        "colab": {
          "base_uri": "https://localhost:8080/"
        },
        "outputId": "b9b4a88d-c4ec-40b0-8698-611ed6d1ada1"
      },
      "outputs": [
        {
          "output_type": "stream",
          "name": "stdout",
          "text": [
            "Base image path : data/words\n"
          ]
        }
      ],
      "source": [
        "base_image_path = os.path.join(base_path, \"words\")\n",
        "print(f\"Base image path : {base_image_path}\")\n",
        "\n",
        "def get_image_paths_and_labels(samples):\n",
        "    paths = []\n",
        "    corrected_samples = []\n",
        "    for (i, file_line) in enumerate(samples):\n",
        "        line_split = file_line.strip()\n",
        "        line_split = line_split.split(\" \")\n",
        "\n",
        "        # Each line split will have this format for the corresponding image:\n",
        "        # part1/part1-part2/part1-part2-part3.png\n",
        "        image_name = line_split[0]\n",
        "        partI = image_name.split(\"-\")[0]\n",
        "        partII = image_name.split(\"-\")[1]\n",
        "        img_path = os.path.join(\n",
        "            base_image_path, partI, partI + \"-\" + partII, image_name + \".png\"\n",
        "        )\n",
        "        if os.path.getsize(img_path):\n",
        "            paths.append(img_path)\n",
        "            corrected_samples.append(file_line.split(\"\\n\")[0])\n",
        "\n",
        "    return paths, corrected_samples\n",
        "\n",
        "\n",
        "train_img_paths, train_labels = get_image_paths_and_labels(train_samples)\n",
        "validation_img_paths, validation_labels = get_image_paths_and_labels(validation_samples)\n",
        "test_img_paths, test_labels = get_image_paths_and_labels(test_samples)"
      ]
    },
    {
      "cell_type": "code",
      "source": [
        "# train_img_paths\n",
        "\n",
        "for i in range(15):\n",
        "  print(f\"Path : {train_img_paths[i]} --&&-- Label : {train_labels[i]}\")\n",
        "  # Same format for validation and testing images"
      ],
      "metadata": {
        "colab": {
          "base_uri": "https://localhost:8080/"
        },
        "id": "mtFbra3AuBVy",
        "outputId": "7cbed949-fb28-45e4-fc64-7e36cbda5862"
      },
      "execution_count": null,
      "outputs": [
        {
          "output_type": "stream",
          "name": "stdout",
          "text": [
            "Path : data/words/e04/e04-030/e04-030-04-08.png --&&-- Label : e04-030-04-08 ok 170 1489 1499 120 39 JJ sure\n",
            "Path : data/words/k02/k02-102/k02-102-05-03.png --&&-- Label : k02-102-05-03 ok 182 836 1623 69 52 PP3A he\n",
            "Path : data/words/a01/a01-082u/a01-082u-01-04.png --&&-- Label : a01-082u-01-04 ok 172 1582 1043 234 88 IN during\n",
            "Path : data/words/m01/m01-000/m01-000-07-00.png --&&-- Label : m01-000-07-00 ok 196 339 1998 75 107 INO of\n",
            "Path : data/words/g01/g01-031/g01-031-07-06.png --&&-- Label : g01-031-07-06 ok 152 1912 2038 167 59 NN booty\n",
            "Path : data/words/f07/f07-081b/f07-081b-01-06.png --&&-- Label : f07-081b-01-06 ok 168 1366 924 350 88 NN gastronomy\n",
            "Path : data/words/n03/n03-082/n03-082-04-03.png --&&-- Label : n03-082-04-03 ok 165 992 1414 118 135 NN boy\n",
            "Path : data/words/g06/g06-018c/g06-018c-04-05.png --&&-- Label : g06-018c-04-05 ok 182 1298 1438 96 58 ATI The\n",
            "Path : data/words/g06/g06-011j/g06-011j-06-06.png --&&-- Label : g06-011j-06-06 ok 182 1222 1785 146 95 CC and\n",
            "Path : data/words/f04/f04-024/f04-024-01-06.png --&&-- Label : f04-024-01-06 ok 183 1104 981 60 70 IN in\n",
            "Path : data/words/g06/g06-050k/g06-050k-00-07.png --&&-- Label : g06-050k-00-07 ok 156 1842 717 85 76 PP$ his\n",
            "Path : data/words/m01/m01-100/m01-100-01-06.png --&&-- Label : m01-100-01-06 ok 185 1459 880 177 131 JJ flying\n",
            "Path : data/words/n02/n02-033/n02-033-04-01.png --&&-- Label : n02-033-04-01 ok 149 940 1486 353 85 VBD presented\n",
            "Path : data/words/p03/p03-047/p03-047-00-01.png --&&-- Label : p03-047-00-01 ok 191 393 739 127 80 UH No\n",
            "Path : data/words/g06/g06-011e/g06-011e-08-00.png --&&-- Label : g06-011e-08-00 ok 154 386 2190 70 44 CS as\n"
          ]
        }
      ]
    },
    {
      "cell_type": "code",
      "source": [
        "# test_img_paths\n",
        "\n",
        "for i in range(15):\n",
        "  print(f\"Path : {test_img_paths[i]} --&&-- Label : {test_labels[i]}\")\n",
        "  # Same format for validation and testing images"
      ],
      "metadata": {
        "colab": {
          "base_uri": "https://localhost:8080/"
        },
        "id": "o0qqCKC-TFn0",
        "outputId": "c0115e61-481f-4151-c864-580aac4b5806"
      },
      "execution_count": null,
      "outputs": [
        {
          "output_type": "stream",
          "name": "stdout",
          "text": [
            "Path : data/words/g01/g01-067/g01-067-03-02.png --&&-- Label : g01-067-03-02 ok 152 832 1308 286 82 VBN altered\n",
            "Path : data/words/m04/m04-093/m04-093-07-01.png --&&-- Label : m04-093-07-01 ok 168 389 1987 154 75 RN Here\n",
            "Path : data/words/l04/l04-179/l04-179-05-00.png --&&-- Label : l04-179-05-00 ok 169 329 1618 7 22 *' '\n",
            "Path : data/words/b05/b05-038/b05-038-01-00.png --&&-- Label : b05-038-01-00 ok 151 329 879 147 69 ATI the\n",
            "Path : data/words/l04/l04-163/l04-163-04-08.png --&&-- Label : l04-163-04-08 ok 158 1881 1448 35 54 PP3 It\n",
            "Path : data/words/l07/l07-135/l07-135-07-04.png --&&-- Label : l07-135-07-04 ok 180 1619 2194 106 72 IN up\n",
            "Path : data/words/e04/e04-022/e04-022-06-05.png --&&-- Label : e04-022-06-05 ok 172 1455 1815 204 152 NNS edges\n",
            "Path : data/words/e02/e02-014/e02-014-01-00.png --&&-- Label : e02-014-01-00 ok 195 302 903 139 67 ATI The\n",
            "Path : data/words/e04/e04-022/e04-022-02-03.png --&&-- Label : e04-022-02-03 ok 173 1015 1120 283 120 NN position\n",
            "Path : data/words/e04/e04-038/e04-038-04-04.png --&&-- Label : e04-038-04-04 ok 190 1023 1448 355 77 VBN scratched\n",
            "Path : data/words/n04/n04-039/n04-039-05-07.png --&&-- Label : n04-039-05-07 ok 170 1437 1599 336 120 NN$ officer's\n",
            "Path : data/words/b06/b06-100/b06-100-07-03.png --&&-- Label : b06-100-07-03 ok 171 1415 2185 69 54 TO to\n",
            "Path : data/words/f04/f04-016/f04-016-00-06.png --&&-- Label : f04-016-00-06 ok 147 1760 694 95 104 JJ late\n",
            "Path : data/words/p02/p02-081/p02-081-02-04.png --&&-- Label : p02-081-02-04 ok 182 925 1272 341 56 VBD wanted\n",
            "Path : data/words/h04/h04-071/h04-071-05-02.png --&&-- Label : h04-071-05-02 ok 162 669 1685 13 24 , ,\n"
          ]
        }
      ]
    },
    {
      "cell_type": "markdown",
      "metadata": {
        "id": "dGr39Yui0DaM"
      },
      "source": [
        "Then we prepare the ground-truth labels."
      ]
    },
    {
      "cell_type": "code",
      "execution_count": null,
      "metadata": {
        "id": "fi1gtbOo0DaN",
        "colab": {
          "base_uri": "https://localhost:8080/"
        },
        "outputId": "c267891b-cc8c-4e0e-cb66-5afb3390aa0a"
      },
      "outputs": [
        {
          "output_type": "stream",
          "name": "stdout",
          "text": [
            "Maximum length:  21\n",
            "Vocab size:  78\n",
            "\n",
            "sure he during of booty gastronomy boy The and in his flying presented No as few work of items took "
          ]
        }
      ],
      "source": [
        "# Find maximum length and the size of the vocabulary in the training data.\n",
        "train_labels_cleaned = []\n",
        "characters = set()\n",
        "max_len = 0\n",
        "\n",
        "for label in train_labels:\n",
        "    label = label.split(\" \")[-1].strip()\n",
        "    for char in label:\n",
        "        characters.add(char)\n",
        "\n",
        "    max_len = max(max_len, len(label))\n",
        "    train_labels_cleaned.append(label)\n",
        "\n",
        "characters = sorted(list(characters))\n",
        "\n",
        "print(\"Maximum length: \", max_len)\n",
        "print(\"Vocab size: \", len(characters))\n",
        "\n",
        "# Check some label samples.\n",
        "print()\n",
        "for i in range(20):\n",
        "  print(train_labels_cleaned[i],end=\" \")"
      ]
    },
    {
      "cell_type": "code",
      "source": [
        "for j in characters:\n",
        "  print(j,end=\" \")"
      ],
      "metadata": {
        "colab": {
          "base_uri": "https://localhost:8080/"
        },
        "id": "Y56y1fxzUeTf",
        "outputId": "f16209e3-d13c-4f39-a484-46bfb81dc8c8"
      },
      "execution_count": null,
      "outputs": [
        {
          "output_type": "stream",
          "name": "stdout",
          "text": [
            "! \" # & ' ( ) * + , - . / 0 1 2 3 4 5 6 7 8 9 : ; ? A B C D E F G H I J K L M N O P Q R S T U V W X Y Z a b c d e f g h i j k l m n o p q r s t u v w x y z "
          ]
        }
      ]
    },
    {
      "cell_type": "markdown",
      "metadata": {
        "id": "lyQBZnqz0DaN"
      },
      "source": [
        "Now we clean the validation and the test labels as well."
      ]
    },
    {
      "cell_type": "code",
      "execution_count": null,
      "metadata": {
        "id": "csqr2q850DaN",
        "colab": {
          "base_uri": "https://localhost:8080/"
        },
        "outputId": "a6025d0e-5889-4fb4-ab1b-149b5bd3d40d"
      },
      "outputs": [
        {
          "output_type": "stream",
          "name": "stdout",
          "text": [
            "able full . act you National - abyss said in Aviation . in Ministry the \n",
            "altered Here ' the It up edges The position scratched officer's to late wanted , "
          ]
        }
      ],
      "source": [
        "def clean_labels(labels):\n",
        "    cleaned_labels = []\n",
        "    for label in labels:\n",
        "        label = label.split(\" \")[-1].strip()\n",
        "        cleaned_labels.append(label)\n",
        "    return cleaned_labels\n",
        "\n",
        "\n",
        "validation_labels_cleaned = clean_labels(validation_labels)\n",
        "test_labels_cleaned = clean_labels(test_labels)\n",
        "\n",
        "for i in range(15):\n",
        "  print(validation_labels_cleaned[i],end=\" \")\n",
        "\n",
        "print()\n",
        "for i in range(15):\n",
        "  print(test_labels_cleaned[i],end=\" \")"
      ]
    },
    {
      "cell_type": "markdown",
      "metadata": {
        "id": "97Wl_ggL0DaN"
      },
      "source": [
        "### Building the character vocabulary\n",
        "\n",
        "Keras provides different preprocessing layers to deal with different modalities of data.\n",
        "[This guide](https://keras.io/guides/preprocessing_layers/) provides a comprehensive introduction.\n",
        "Our example involves preprocessing labels at the character\n",
        "level. This means that if there are two labels, e.g. \"cat\" and \"dog\", then our character\n",
        "vocabulary should be {a, c, d, g, o, t} (without any special tokens). We use the\n",
        "[`StringLookup`](https://keras.io/api/layers/preprocessing_layers/categorical/string_lookup/)\n",
        "layer for this purpose."
      ]
    },
    {
      "cell_type": "code",
      "execution_count": null,
      "metadata": {
        "id": "SuEDbdPW0DaO",
        "colab": {
          "base_uri": "https://localhost:8080/"
        },
        "outputId": "395be286-55c9-4b06-cc4e-eb13c07ae8d5"
      },
      "outputs": [
        {
          "output_type": "execute_result",
          "data": {
            "text/plain": [
              "<keras.layers.preprocessing.string_lookup.StringLookup at 0x7f2816000990>"
            ]
          },
          "metadata": {},
          "execution_count": 27
        }
      ],
      "source": [
        "AUTOTUNE = tf.data.AUTOTUNE\n",
        "\n",
        "# Mapping characters to integers.\n",
        "char_to_num = StringLookup(vocabulary=list(characters), mask_token=None)\n",
        "\n",
        "# Mapping integers back to original characters.\n",
        "num_to_char = StringLookup(\n",
        "    vocabulary=char_to_num.get_vocabulary(), mask_token=None, invert=True\n",
        ")\n",
        "\n",
        "num_to_char"
      ]
    },
    {
      "cell_type": "markdown",
      "metadata": {
        "id": "T9lc2wM60DaO"
      },
      "source": [
        "### Resizing images without distortion\n",
        "\n",
        "Instead of square images, many OCR models work with rectangular images. This will become\n",
        "clearer in a moment when we will visualize a few samples from the dataset. While\n",
        "aspect-unaware resizing square images does not introduce a significant amount of\n",
        "distortion this is not the case for rectangular images. But resizing images to a uniform\n",
        "size is a requirement for mini-batching. So we need to perform our resizing such that\n",
        "the following criteria are met:\n",
        "\n",
        "* Aspect ratio is preserved.\n",
        "* Content of the images is not affected."
      ]
    },
    {
      "cell_type": "code",
      "execution_count": null,
      "metadata": {
        "id": "vTAVv8QJ0DaO"
      },
      "outputs": [],
      "source": [
        "# Distortion is an alteration of the original shape or form of something.\n",
        "\n",
        "# This function can be used to resize our images\n",
        "def distortion_free_resize(image, img_size):\n",
        "    w, h = img_size\n",
        "    image = tf.image.resize(image, size=(h, w), preserve_aspect_ratio=True)\n",
        "\n",
        "    # Check tha amount of padding needed to be done.\n",
        "    pad_height = h - tf.shape(image)[0]\n",
        "    pad_width = w - tf.shape(image)[1]\n",
        "\n",
        "    # Only necessary if you want to do same amount of padding on both sides.\n",
        "    if pad_height % 2 != 0:\n",
        "        height = pad_height // 2\n",
        "        pad_height_top = height + 1\n",
        "        pad_height_bottom = height\n",
        "    else:\n",
        "        pad_height_top = pad_height_bottom = pad_height // 2\n",
        "\n",
        "    if pad_width % 2 != 0:\n",
        "        width = pad_width // 2\n",
        "        pad_width_left = width + 1\n",
        "        pad_width_right = width\n",
        "    else:\n",
        "        pad_width_left = pad_width_right = pad_width // 2\n",
        "\n",
        "    image = tf.pad(\n",
        "        image,\n",
        "        paddings=[\n",
        "            [pad_height_top, pad_height_bottom],\n",
        "            [pad_width_left, pad_width_right],\n",
        "            [0, 0],\n",
        "        ],\n",
        "    )\n",
        "\n",
        "    image = tf.transpose(image, perm=[1, 0, 2])\n",
        "    image = tf.image.flip_left_right(image)\n",
        "    return image\n"
      ]
    },
    {
      "cell_type": "markdown",
      "metadata": {
        "id": "kzEJO8kO0DaP"
      },
      "source": [
        "If we just go with the plain resizing then the images would look like so:\n",
        "\n",
        "![](https://i.imgur.com/eqq3s4N.png)\n",
        "\n",
        "Notice how this resizing would have introduced unnecessary stretching."
      ]
    },
    {
      "cell_type": "markdown",
      "metadata": {
        "id": "ODFegPTJ0DaP"
      },
      "source": [
        "### Putting the utilities together"
      ]
    },
    {
      "cell_type": "code",
      "execution_count": null,
      "metadata": {
        "id": "aerzWmQk0DaP"
      },
      "outputs": [],
      "source": [
        "batch_size = 64\n",
        "padding_token = 99\n",
        "image_width = 128\n",
        "image_height = 32\n",
        "\n",
        "\n",
        "def preprocess_image(image_path, img_size=(image_width, image_height)):\n",
        "    image = tf.io.read_file(image_path)\n",
        "    image = tf.image.decode_png(image, 1)\n",
        "    image = distortion_free_resize(image, img_size)\n",
        "    image = tf.cast(image, tf.float32) / 255.0\n",
        "    return image\n",
        "\n",
        "\n",
        "def vectorize_label(label):\n",
        "    label = char_to_num(tf.strings.unicode_split(label, input_encoding=\"UTF-8\"))\n",
        "    length = tf.shape(label)[0]\n",
        "    pad_amount = max_len - length\n",
        "    label = tf.pad(label, paddings=[[0, pad_amount]], constant_values=padding_token)\n",
        "    return label\n",
        "\n",
        "\n",
        "def process_images_labels(image_path, label):\n",
        "    image = preprocess_image(image_path)\n",
        "    label = vectorize_label(label)\n",
        "    return {\"image\": image, \"label\": label}\n",
        "\n",
        "\n",
        "def prepare_dataset(image_paths, labels):\n",
        "    dataset = tf.data.Dataset.from_tensor_slices((image_paths, labels)).map(\n",
        "        process_images_labels, num_parallel_calls=AUTOTUNE\n",
        "    )\n",
        "    return dataset.batch(batch_size).cache().prefetch(AUTOTUNE)\n"
      ]
    },
    {
      "cell_type": "markdown",
      "metadata": {
        "id": "H-SrSXS10DaP"
      },
      "source": [
        "## Prepare `tf.data.Dataset` objects"
      ]
    },
    {
      "cell_type": "code",
      "execution_count": null,
      "metadata": {
        "id": "AYJWZfMy0DaP",
        "colab": {
          "base_uri": "https://localhost:8080/"
        },
        "outputId": "655f6c47-3fc8-4007-a53a-a1e90c5f377f"
      },
      "outputs": [
        {
          "output_type": "execute_result",
          "data": {
            "text/plain": [
              "TensorSpec(shape=(None, None, None, 1), dtype=tf.float32, name=None)"
            ]
          },
          "metadata": {},
          "execution_count": 34
        }
      ],
      "source": [
        "train_ds = prepare_dataset(train_img_paths, train_labels_cleaned)\n",
        "validation_ds = prepare_dataset(validation_img_paths, validation_labels_cleaned)\n",
        "test_ds = prepare_dataset(test_img_paths, test_labels_cleaned)\n",
        "\n",
        "train_ds\n",
        "test_ds.element_spec[\"image\"]"
      ]
    },
    {
      "cell_type": "markdown",
      "metadata": {
        "id": "aEqLhzkp0DaQ"
      },
      "source": [
        "## Visualize a few samples"
      ]
    },
    {
      "cell_type": "code",
      "execution_count": null,
      "metadata": {
        "id": "U0CST5a10DaQ",
        "colab": {
          "base_uri": "https://localhost:8080/",
          "height": 433
        },
        "outputId": "941d64d8-a37a-4fe6-84d0-0329fd3b1b58"
      },
      "outputs": [
        {
          "output_type": "display_data",
          "data": {
            "text/plain": [
              "<Figure size 1080x576 with 16 Axes>"
            ],
            "image/png": "[encoded data removed]"
          },
          "metadata": {
            "needs_background": "light"
          }
        }
      ],
      "source": [
        "for data in train_ds.take(1):\n",
        "    images, labels = data[\"image\"], data[\"label\"]\n",
        "\n",
        "    _, ax = plt.subplots(4, 4, figsize=(15, 8))\n",
        "\n",
        "    for i in range(16):\n",
        "        img = images[i]\n",
        "        img = tf.image.flip_left_right(img)\n",
        "        img = tf.transpose(img, perm=[1, 0, 2])\n",
        "        img = (img * 255.0).numpy().clip(0, 255).astype(np.uint8)\n",
        "        img = img[:, :, 0]\n",
        "\n",
        "        # Gather indices where label!= padding_token.\n",
        "        label = labels[i]\n",
        "        indices = tf.gather(label, tf.where(tf.math.not_equal(label, padding_token)))\n",
        "        # Convert to string.\n",
        "        label = tf.strings.reduce_join(num_to_char(indices))\n",
        "        label = label.numpy().decode(\"utf-8\")\n",
        "\n",
        "        ax[i // 4, i % 4].imshow(img, cmap=\"gray\")\n",
        "        ax[i // 4, i % 4].set_title(label)\n",
        "        ax[i // 4, i % 4].axis(\"off\")\n",
        "\n",
        "\n",
        "plt.show()"
      ]
    },
    {
      "cell_type": "markdown",
      "metadata": {
        "id": "yJuGrGG80DaQ"
      },
      "source": [
        "You will notice that the content of original image is kept as faithful as possible and has\n",
        "been padded accordingly."
      ]
    },
    {
      "cell_type": "markdown",
      "metadata": {
        "id": "gkHZOWCh0DaQ"
      },
      "source": [
        "## Model\n",
        "\n",
        "Our model will use the CTC loss as an endpoint layer. For a detailed understanding of the\n",
        "CTC loss, refer to [this post](https://distill.pub/2017/ctc/)."
      ]
    },
    {
      "cell_type": "code",
      "execution_count": null,
      "metadata": {
        "id": "plzcR0sS0DaQ",
        "colab": {
          "base_uri": "https://localhost:8080/"
        },
        "outputId": "21943070-b6ba-4f24-c4ef-90489d846dec"
      },
      "outputs": [
        {
          "output_type": "stream",
          "name": "stdout",
          "text": [
            "Model : \n",
            "Model: \"Handwriting_Recognizer\"\n",
            "__________________________________________________________________________________________________\n",
            " Layer (type)                   Output Shape         Param #     Connected to                     \n",
            "==================================================================================================\n",
            " image (InputLayer)             [(None, 128, 32, 1)  0           []                               \n",
            "                                ]                                                                 \n",
            "                                                                                                  \n",
            " Conv1 (Conv2D)                 (None, 128, 32, 32)  320         ['image[0][0]']                  \n",
            "                                                                                                  \n",
            " pool1 (MaxPooling2D)           (None, 64, 16, 32)   0           ['Conv1[0][0]']                  \n",
            "                                                                                                  \n",
            " Conv2 (Conv2D)                 (None, 64, 16, 64)   18496       ['pool1[0][0]']                  \n",
            "                                                                                                  \n",
            " pool2 (MaxPooling2D)           (None, 32, 8, 64)    0           ['Conv2[0][0]']                  \n",
            "                                                                                                  \n",
            " reshape (Reshape)              (None, 32, 512)      0           ['pool2[0][0]']                  \n",
            "                                                                                                  \n",
            " dense1 (Dense)                 (None, 32, 64)       32832       ['reshape[0][0]']                \n",
            "                                                                                                  \n",
            " dropout (Dropout)              (None, 32, 64)       0           ['dense1[0][0]']                 \n",
            "                                                                                                  \n",
            " bidirectional (Bidirectional)  (None, 32, 256)      197632      ['dropout[0][0]']                \n",
            "                                                                                                  \n",
            " bidirectional_1 (Bidirectional  (None, 32, 128)     164352      ['bidirectional[0][0]']          \n",
            " )                                                                                                \n",
            "                                                                                                  \n",
            " label (InputLayer)             [(None, None)]       0           []                               \n",
            "                                                                                                  \n",
            " dense2 (Dense)                 (None, 32, 81)       10449       ['bidirectional_1[0][0]']        \n",
            "                                                                                                  \n",
            " ctc_loss (CTCLayer)            (None, 32, 81)       0           ['label[0][0]',                  \n",
            "                                                                  'dense2[0][0]']                 \n",
            "                                                                                                  \n",
            "==================================================================================================\n",
            "Total params: 424,081\n",
            "Trainable params: 424,081\n",
            "Non-trainable params: 0\n",
            "__________________________________________________________________________________________________\n"
          ]
        }
      ],
      "source": [
        "\n",
        "class CTCLayer(keras.layers.Layer):\n",
        "    def __init__(self, name=None):\n",
        "        super().__init__(name=name)\n",
        "        self.loss_fn = keras.backend.ctc_batch_cost\n",
        "\n",
        "    def call(self, y_true, y_pred):\n",
        "        batch_len = tf.cast(tf.shape(y_true)[0], dtype=\"int64\")\n",
        "        input_length = tf.cast(tf.shape(y_pred)[1], dtype=\"int64\")\n",
        "        label_length = tf.cast(tf.shape(y_true)[1], dtype=\"int64\")\n",
        "\n",
        "        input_length = input_length * tf.ones(shape=(batch_len, 1), dtype=\"int64\")\n",
        "        label_length = label_length * tf.ones(shape=(batch_len, 1), dtype=\"int64\")\n",
        "        loss = self.loss_fn(y_true, y_pred, input_length, label_length)\n",
        "        # accuracy = model.evaluate(y_true, y_pred, verbose = 0) \n",
        "        self.add_loss(loss)\n",
        "\n",
        "        # At test time, just return the computed predictions.\n",
        "        return y_pred\n",
        "\n",
        "\n",
        "def build_model():\n",
        "    # Inputs to the model\n",
        "    input_img = keras.Input(shape=(image_width, image_height, 1), name=\"image\")\n",
        "    labels = keras.layers.Input(name=\"label\", shape=(None,))\n",
        "\n",
        "    # First conv block.\n",
        "    x = keras.layers.Conv2D(\n",
        "        32,\n",
        "        (3, 3),\n",
        "        activation=\"relu\",\n",
        "        kernel_initializer=\"he_normal\",\n",
        "        padding=\"same\",\n",
        "        name=\"Conv1\",\n",
        "    )(input_img)\n",
        "    x = keras.layers.MaxPooling2D((2, 2), name=\"pool1\")(x)\n",
        "\n",
        "    # Second conv block.\n",
        "    x = keras.layers.Conv2D(\n",
        "        64,\n",
        "        (3, 3),\n",
        "        activation=\"relu\",\n",
        "        kernel_initializer=\"he_normal\",\n",
        "        padding=\"same\",\n",
        "        name=\"Conv2\",\n",
        "    )(x)\n",
        "    x = keras.layers.MaxPooling2D((2, 2), name=\"pool2\")(x)\n",
        "\n",
        "    # We have used two max pool with pool size and strides 2.\n",
        "    # Hence, downsampled feature maps are 4x smaller. The number of\n",
        "    # filters in the last layer is 64. Reshape accordingly before\n",
        "    # passing the output to the RNN part of the model.\n",
        "    new_shape = ((image_width // 4), (image_height // 4) * 64)\n",
        "    x = keras.layers.Reshape(target_shape=new_shape, name=\"reshape\")(x)\n",
        "    x = keras.layers.Dense(64, activation=\"relu\", name=\"dense1\")(x)\n",
        "    x = keras.layers.Dropout(0.2)(x)\n",
        "\n",
        "    # RNNs.\n",
        "    x = keras.layers.Bidirectional(\n",
        "        keras.layers.LSTM(128, return_sequences=True, dropout=0.25)\n",
        "    )(x)\n",
        "    x = keras.layers.Bidirectional(\n",
        "        keras.layers.LSTM(64, return_sequences=True, dropout=0.25)\n",
        "    )(x)\n",
        "\n",
        "    # +2 is to account for the two special tokens introduced by the CTC loss.\n",
        "    # The recommendation comes here: https://git.io/J0eXP.\n",
        "    x = keras.layers.Dense(\n",
        "        len(char_to_num.get_vocabulary()) + 2, activation=\"softmax\", name=\"dense2\"\n",
        "    )(x)\n",
        "\n",
        "    # Add CTC layer for calculating CTC loss at each step.\n",
        "    output = CTCLayer(name=\"ctc_loss\")(labels, x)\n",
        "\n",
        "    # Define the model.\n",
        "    model = keras.models.Model(\n",
        "        inputs=[input_img, labels], outputs=output, name=\"Handwriting_Recognizer\"\n",
        "    )\n",
        "    # Optimizer.\n",
        "    opt = keras.optimizers.Adam()\n",
        "    # Compile the model and return.\n",
        "    # accuracy = model.evaluate(y_true, y_pred, verbose = 0) \n",
        "    model.compile(optimizer=opt,metrics=[keras.metrics.Accuracy()])\n",
        "    return model\n",
        "\n",
        "\n",
        "# Get the model.\n",
        "model = build_model()\n",
        "print(\"Model : \")\n",
        "model.summary()"
      ]
    },
    {
      "cell_type": "markdown",
      "metadata": {
        "id": "4PWS-J1K0DaR"
      },
      "source": [
        "## Evaluation metric\n",
        "\n",
        "[Edit Distance](https://en.wikipedia.org/wiki/Edit_distance)\n",
        "is the most widely used metric for evaluating OCR models. In this section, we will\n",
        "implement it and use it as a callback to monitor our model."
      ]
    },
    {
      "cell_type": "markdown",
      "metadata": {
        "id": "IqGiXq130DaR"
      },
      "source": [
        "We first segregate the validation images and their labels for convenience."
      ]
    },
    {
      "cell_type": "code",
      "execution_count": null,
      "metadata": {
        "id": "ZJEDfRZC0DaR"
      },
      "outputs": [],
      "source": [
        "validation_images = []\n",
        "validation_labels = []\n",
        "\n",
        "for batch in validation_ds:\n",
        "    validation_images.append(batch[\"image\"])\n",
        "    validation_labels.append(batch[\"label\"])"
      ]
    },
    {
      "cell_type": "code",
      "source": [
        "validation_labels[:3]"
      ],
      "metadata": {
        "colab": {
          "base_uri": "https://localhost:8080/"
        },
        "id": "DhKSB5lRafD-",
        "outputId": "4771f3a3-d826-45ee-b08a-d822c6f9ae61"
      },
      "execution_count": null,
      "outputs": [
        {
          "output_type": "execute_result",
          "data": {
            "text/plain": [
              "[<tf.Tensor: shape=(64, 21), dtype=int64, numpy=\n",
              " array([[53, 54, 64, ..., 99, 99, 99],\n",
              "        [58, 73, 64, ..., 99, 99, 99],\n",
              "        [12, 99, 99, ..., 99, 99, 99],\n",
              "        ...,\n",
              "        [70, 57, 59, ..., 99, 99, 99],\n",
              "        [72, 67, 64, ..., 99, 99, 99],\n",
              "        [10, 99, 99, ..., 99, 99, 99]])>,\n",
              " <tf.Tensor: shape=(64, 21), dtype=int64, numpy=\n",
              " array([[58, 61, 66, ..., 99, 99, 99],\n",
              "        [53, 66, 99, ..., 99, 99, 99],\n",
              "        [34, 61, 71, ..., 99, 99, 99],\n",
              "        ...,\n",
              "        [71, 72, 70, ..., 99, 99, 99],\n",
              "        [25, 99, 99, ..., 99, 99, 99],\n",
              "        [54, 53, 55, ..., 99, 99, 99]])>,\n",
              " <tf.Tensor: shape=(64, 21), dtype=int64, numpy=\n",
              " array([[71, 67, 99, ..., 99, 99, 99],\n",
              "        [60, 61, 71, ..., 99, 99, 99],\n",
              "        [67, 58, 99, ..., 99, 99, 99],\n",
              "        ...,\n",
              "        [75, 61, 58, ..., 99, 99, 99],\n",
              "        [12, 99, 99, ..., 99, 99, 99],\n",
              "        [72, 61, 56, ..., 99, 99, 99]])>]"
            ]
          },
          "metadata": {},
          "execution_count": 40
        }
      ]
    },
    {
      "cell_type": "markdown",
      "metadata": {
        "id": "d34x-sgz0DaR"
      },
      "source": [
        "Now, we create a callback to monitor the edit distances."
      ]
    },
    {
      "cell_type": "code",
      "execution_count": null,
      "metadata": {
        "id": "2hJXa4Qd0DaR"
      },
      "outputs": [],
      "source": [
        "\n",
        "def calculate_edit_distance(labels, predictions):\n",
        "    # Get a single batch and convert its labels to sparse tensors.\n",
        "    saprse_labels = tf.cast(tf.sparse.from_dense(labels), dtype=tf.int64)\n",
        "\n",
        "    # Make predictions and convert them to sparse tensors.\n",
        "    input_len = np.ones(predictions.shape[0]) * predictions.shape[1]\n",
        "    predictions_decoded = keras.backend.ctc_decode(\n",
        "        predictions, input_length=input_len, greedy=True\n",
        "    )[0][0][:, :max_len]\n",
        "    sparse_predictions = tf.cast(\n",
        "        tf.sparse.from_dense(predictions_decoded), dtype=tf.int64\n",
        "    )\n",
        "\n",
        "    # Compute individual edit distances and average them out.\n",
        "    edit_distances = tf.edit_distance(\n",
        "        sparse_predictions, saprse_labels, normalize=False\n",
        "    )\n",
        "    return tf.reduce_mean(edit_distances)\n",
        "\n",
        "\n",
        "class EditDistanceCallback(keras.callbacks.Callback):\n",
        "    def __init__(self, pred_model):\n",
        "        super().__init__()\n",
        "        self.prediction_model = pred_model\n",
        "\n",
        "    def on_epoch_end(self, epoch, logs=None):\n",
        "        edit_distances = []\n",
        "\n",
        "        for i in range(len(validation_images)):\n",
        "            labels = validation_labels[i]\n",
        "            predictions = self.prediction_model.predict(validation_images[i])\n",
        "            edit_distances.append(calculate_edit_distance(labels, predictions).numpy())\n",
        "\n",
        "        print(\n",
        "            f\"Mean edit distance for epoch {epoch + 1}: {np.mean(edit_distances):.4f}\"\n",
        "        )\n"
      ]
    },
    {
      "cell_type": "markdown",
      "metadata": {
        "id": "IuPLB0oc0DaT"
      },
      "source": [
        "## Training\n",
        "\n",
        "Now we are ready to kick off model training."
      ]
    },
    {
      "cell_type": "code",
      "execution_count": null,
      "metadata": {
        "id": "FbNTX7WE0DaT",
        "colab": {
          "base_uri": "https://localhost:8080/"
        },
        "outputId": "cbac7ca8-1318-4b13-88e6-ef4833da15d6"
      },
      "outputs": [
        {
          "output_type": "stream",
          "name": "stdout",
          "text": [
            "Epoch 1/2\n",
            "2/2 [==============================] - 1s 12ms/step\n",
            "2/2 [==============================] - 0s 10ms/step\n",
            "2/2 [==============================] - 0s 10ms/step\n",
            "2/2 [==============================] - 0s 10ms/step\n",
            "2/2 [==============================] - 0s 11ms/step\n",
            "2/2 [==============================] - 0s 10ms/step\n",
            "2/2 [==============================] - 0s 11ms/step\n",
            "2/2 [==============================] - 0s 11ms/step\n",
            "2/2 [==============================] - 0s 10ms/step\n",
            "2/2 [==============================] - 0s 9ms/step\n",
            "2/2 [==============================] - 0s 11ms/step\n",
            "2/2 [==============================] - 0s 10ms/step\n",
            "2/2 [==============================] - 0s 10ms/step\n",
            "2/2 [==============================] - 0s 11ms/step\n",
            "2/2 [==============================] - 0s 10ms/step\n",
            "2/2 [==============================] - 0s 11ms/step\n",
            "2/2 [==============================] - 0s 11ms/step\n",
            "2/2 [==============================] - 0s 11ms/step\n",
            "2/2 [==============================] - 0s 11ms/step\n",
            "2/2 [==============================] - 0s 10ms/step\n",
            "2/2 [==============================] - 0s 11ms/step\n",
            "2/2 [==============================] - 0s 10ms/step\n",
            "2/2 [==============================] - 0s 11ms/step\n",
            "2/2 [==============================] - 0s 10ms/step\n",
            "2/2 [==============================] - 0s 10ms/step\n",
            "2/2 [==============================] - 0s 10ms/step\n",
            "2/2 [==============================] - 0s 11ms/step\n",
            "2/2 [==============================] - 0s 12ms/step\n",
            "2/2 [==============================] - 0s 11ms/step\n",
            "2/2 [==============================] - 0s 10ms/step\n",
            "2/2 [==============================] - 0s 10ms/step\n",
            "2/2 [==============================] - 0s 10ms/step\n",
            "2/2 [==============================] - 0s 11ms/step\n",
            "2/2 [==============================] - 0s 12ms/step\n",
            "2/2 [==============================] - 0s 12ms/step\n",
            "2/2 [==============================] - 0s 10ms/step\n",
            "2/2 [==============================] - 0s 10ms/step\n",
            "2/2 [==============================] - 0s 11ms/step\n",
            "2/2 [==============================] - 0s 11ms/step\n",
            "2/2 [==============================] - 0s 10ms/step\n",
            "2/2 [==============================] - 0s 10ms/step\n",
            "2/2 [==============================] - 0s 11ms/step\n",
            "2/2 [==============================] - 0s 10ms/step\n",
            "2/2 [==============================] - 0s 10ms/step\n",
            "2/2 [==============================] - 0s 10ms/step\n",
            "2/2 [==============================] - 0s 10ms/step\n",
            "2/2 [==============================] - 0s 10ms/step\n",
            "2/2 [==============================] - 0s 10ms/step\n",
            "2/2 [==============================] - 0s 11ms/step\n",
            "2/2 [==============================] - 0s 11ms/step\n",
            "2/2 [==============================] - 0s 10ms/step\n",
            "2/2 [==============================] - 0s 10ms/step\n",
            "2/2 [==============================] - 0s 11ms/step\n",
            "2/2 [==============================] - 0s 10ms/step\n",
            "2/2 [==============================] - 0s 13ms/step\n",
            "2/2 [==============================] - 0s 11ms/step\n",
            "2/2 [==============================] - 0s 12ms/step\n",
            "2/2 [==============================] - 0s 10ms/step\n",
            "2/2 [==============================] - 0s 10ms/step\n",
            "2/2 [==============================] - 0s 10ms/step\n",
            "2/2 [==============================] - 0s 10ms/step\n",
            "2/2 [==============================] - 0s 10ms/step\n",
            "2/2 [==============================] - 0s 10ms/step\n",
            "2/2 [==============================] - 0s 11ms/step\n",
            "2/2 [==============================] - 0s 11ms/step\n",
            "2/2 [==============================] - 0s 11ms/step\n",
            "2/2 [==============================] - 0s 10ms/step\n",
            "2/2 [==============================] - 0s 11ms/step\n",
            "2/2 [==============================] - 0s 10ms/step\n",
            "2/2 [==============================] - 0s 11ms/step\n",
            "2/2 [==============================] - 0s 11ms/step\n",
            "2/2 [==============================] - 0s 13ms/step\n",
            "2/2 [==============================] - 0s 10ms/step\n",
            "2/2 [==============================] - 0s 11ms/step\n",
            "2/2 [==============================] - 0s 11ms/step\n",
            "1/1 [==============================] - 1s 1s/step\n",
            "Mean edit distance for epoch 1: 20.7298\n",
            "1357/1357 [==============================] - 153s 101ms/step - loss: 13.7203 - accuracy: 0.0000e+00 - val_loss: 11.8014 - val_accuracy: 0.0000e+00\n",
            "Epoch 2/2\n",
            "2/2 [==============================] - 0s 11ms/step\n",
            "2/2 [==============================] - 0s 9ms/step\n",
            "2/2 [==============================] - 0s 11ms/step\n",
            "2/2 [==============================] - 0s 12ms/step\n",
            "2/2 [==============================] - 0s 12ms/step\n",
            "2/2 [==============================] - 0s 10ms/step\n",
            "2/2 [==============================] - 0s 10ms/step\n",
            "2/2 [==============================] - 0s 10ms/step\n",
            "2/2 [==============================] - 0s 11ms/step\n",
            "2/2 [==============================] - 0s 11ms/step\n",
            "2/2 [==============================] - 0s 11ms/step\n",
            "2/2 [==============================] - 0s 15ms/step\n",
            "2/2 [==============================] - 0s 11ms/step\n",
            "2/2 [==============================] - 0s 11ms/step\n",
            "2/2 [==============================] - 0s 11ms/step\n",
            "2/2 [==============================] - 0s 11ms/step\n",
            "2/2 [==============================] - 0s 11ms/step\n",
            "2/2 [==============================] - 0s 11ms/step\n",
            "2/2 [==============================] - 0s 12ms/step\n",
            "2/2 [==============================] - 0s 11ms/step\n",
            "2/2 [==============================] - 0s 10ms/step\n",
            "2/2 [==============================] - 0s 11ms/step\n",
            "2/2 [==============================] - 0s 10ms/step\n",
            "2/2 [==============================] - 0s 11ms/step\n",
            "2/2 [==============================] - 0s 11ms/step\n",
            "2/2 [==============================] - 0s 10ms/step\n",
            "2/2 [==============================] - 0s 11ms/step\n",
            "2/2 [==============================] - 0s 18ms/step\n",
            "2/2 [==============================] - 0s 11ms/step\n",
            "2/2 [==============================] - 0s 11ms/step\n",
            "2/2 [==============================] - 0s 10ms/step\n",
            "2/2 [==============================] - 0s 11ms/step\n",
            "2/2 [==============================] - 0s 11ms/step\n",
            "2/2 [==============================] - 0s 11ms/step\n",
            "2/2 [==============================] - 0s 11ms/step\n",
            "2/2 [==============================] - 0s 10ms/step\n",
            "2/2 [==============================] - 0s 11ms/step\n",
            "2/2 [==============================] - 0s 10ms/step\n",
            "2/2 [==============================] - 0s 10ms/step\n",
            "2/2 [==============================] - 0s 10ms/step\n",
            "2/2 [==============================] - 0s 11ms/step\n",
            "2/2 [==============================] - 0s 13ms/step\n",
            "2/2 [==============================] - 0s 11ms/step\n",
            "2/2 [==============================] - 0s 10ms/step\n",
            "2/2 [==============================] - 0s 12ms/step\n",
            "2/2 [==============================] - 0s 11ms/step\n",
            "2/2 [==============================] - 0s 10ms/step\n",
            "2/2 [==============================] - 0s 11ms/step\n",
            "2/2 [==============================] - 0s 11ms/step\n",
            "2/2 [==============================] - 0s 10ms/step\n",
            "2/2 [==============================] - 0s 11ms/step\n",
            "2/2 [==============================] - 0s 11ms/step\n",
            "2/2 [==============================] - 0s 10ms/step\n",
            "2/2 [==============================] - 0s 11ms/step\n",
            "2/2 [==============================] - 0s 11ms/step\n",
            "2/2 [==============================] - 0s 11ms/step\n",
            "2/2 [==============================] - 0s 10ms/step\n",
            "2/2 [==============================] - 0s 10ms/step\n",
            "2/2 [==============================] - 0s 11ms/step\n",
            "2/2 [==============================] - 0s 11ms/step\n",
            "2/2 [==============================] - 0s 11ms/step\n",
            "2/2 [==============================] - 0s 11ms/step\n",
            "2/2 [==============================] - 0s 11ms/step\n",
            "2/2 [==============================] - 0s 11ms/step\n",
            "2/2 [==============================] - 0s 11ms/step\n",
            "2/2 [==============================] - 0s 11ms/step\n",
            "2/2 [==============================] - 0s 12ms/step\n",
            "2/2 [==============================] - 0s 14ms/step\n",
            "2/2 [==============================] - 0s 11ms/step\n",
            "2/2 [==============================] - 0s 11ms/step\n",
            "2/2 [==============================] - 0s 11ms/step\n",
            "2/2 [==============================] - 0s 10ms/step\n",
            "2/2 [==============================] - 0s 10ms/step\n",
            "2/2 [==============================] - 0s 11ms/step\n",
            "2/2 [==============================] - 0s 11ms/step\n",
            "1/1 [==============================] - 0s 22ms/step\n",
            "Mean edit distance for epoch 2: 20.2473\n",
            "1357/1357 [==============================] - 84s 62ms/step - loss: 10.5207 - accuracy: 0.0000e+00 - val_loss: 9.3093 - val_accuracy: 0.0000e+00\n"
          ]
        }
      ],
      "source": [
        "epochs = 2  # To get good results this should be at least 50.\n",
        "\n",
        "model = build_model()\n",
        "prediction_model = keras.models.Model(\n",
        "    model.get_layer(name=\"image\").input, model.get_layer(name=\"dense2\").output\n",
        ")\n",
        "edit_distance_callback = EditDistanceCallback(prediction_model)\n",
        "\n",
        "# Train the model.\n",
        "history = model.fit(\n",
        "    train_ds,\n",
        "    validation_data=validation_ds,\n",
        "    epochs=epochs,\n",
        "    callbacks=[edit_distance_callback]\n",
        ")\n"
      ]
    },
    {
      "cell_type": "code",
      "source": [
        "history.history"
      ],
      "metadata": {
        "colab": {
          "base_uri": "https://localhost:8080/"
        },
        "id": "Fz7AYnIcG5PW",
        "outputId": "53850220-bd4c-4b39-8b05-e0324e5b9238"
      },
      "execution_count": null,
      "outputs": [
        {
          "output_type": "execute_result",
          "data": {
            "text/plain": [
              "{'loss': [13.720294952392578, 10.52068042755127],\n",
              " 'accuracy': [0.0, 0.0],\n",
              " 'val_loss': [11.801375389099121, 9.309310913085938],\n",
              " 'val_accuracy': [0.0, 0.0]}"
            ]
          },
          "metadata": {},
          "execution_count": 43
        }
      ]
    },
    {
      "cell_type": "markdown",
      "metadata": {
        "id": "MQKo1LVN0DaT"
      },
      "source": [
        "## Inference"
      ]
    },
    {
      "cell_type": "code",
      "execution_count": null,
      "metadata": {
        "id": "ALW0259Z0DaT",
        "colab": {
          "base_uri": "https://localhost:8080/",
          "height": 498
        },
        "outputId": "af46371a-e185-4cd4-d901-ffbe9e67af8a"
      },
      "outputs": [
        {
          "output_type": "stream",
          "name": "stdout",
          "text": [
            "len is :  2\n",
            "2/2 [==============================] - 0s 11ms/step\n"
          ]
        },
        {
          "output_type": "display_data",
          "data": {
            "text/plain": [
              "<Figure size 1080x576 with 16 Axes>"
            ],
            "image/png": "[encoded data removed]"
          },
          "metadata": {
            "needs_background": "light"
          }
        }
      ],
      "source": [
        "\n",
        "# A utility function to decode the output of the network.\n",
        "def decode_batch_predictions(pred):\n",
        "    input_len = np.ones(pred.shape[0]) * pred.shape[1]\n",
        "    # Use greedy search. For complex tasks, you can use beam search.\n",
        "    results = keras.backend.ctc_decode(pred, input_length=input_len, greedy=True)[0][0][\n",
        "        :, :max_len\n",
        "    ]\n",
        "    # Iterate over the results and get back the text.\n",
        "    output_text = []\n",
        "    for res in results:\n",
        "        res = tf.gather(res, tf.where(tf.math.not_equal(res, -1)))\n",
        "        res = tf.strings.reduce_join(num_to_char(res)).numpy().decode(\"utf-8\")\n",
        "        output_text.append(res)\n",
        "    return output_text\n",
        "\n",
        "\n",
        "#  Let's check results on some test samples.\n",
        "for batch in test_ds.take(1):\n",
        "    # print(batch[\"label\"])\n",
        "    batch_images,batch_labels = batch[\"image\"],batch[\"label\"]\n",
        "    print(\"len is : \",len(batch))\n",
        "    # print(batch)\n",
        "    _, ax = plt.subplots(4, 4, figsize=(15, 8))\n",
        "\n",
        "    preds = prediction_model.predict(batch_images)\n",
        "    pred_texts = decode_batch_predictions(preds)\n",
        "\n",
        "    for i in range(16):\n",
        "        img = batch_images[i]\n",
        "        img = tf.image.flip_left_right(img)\n",
        "        img = tf.transpose(img, perm=[1, 0, 2])\n",
        "        img = (img * 255.0).numpy().clip(0, 255).astype(np.uint8)\n",
        "        img = img[:, :, 0]\n",
        "\n",
        "        label = batch_labels[i]\n",
        "        indices = tf.gather(label, tf.where(tf.math.not_equal(label, padding_token)))\n",
        "        # Convert to string.\n",
        "        label = tf.strings.reduce_join(num_to_char(indices))\n",
        "        label = label.numpy().decode(\"utf-8\")\n",
        "\n",
        "        title = f\"Prediction: {pred_texts[i]} \\n\\n Original : {label}\"\n",
        "        ax[i // 4, i % 4].imshow(img, cmap=\"gray\")\n",
        "        ax[i // 4, i % 4].set_title(title)\n",
        "        ax[i // 4, i % 4].axis(\"off\")\n",
        "\n",
        "plt.show()\n",
        "\n",
        "\n"
      ]
    },
    {
      "cell_type": "code",
      "source": [
        "count = 0\n",
        "for batch in test_ds:\n",
        "    count = count+1\n",
        "print(count)"
      ],
      "metadata": {
        "colab": {
          "base_uri": "https://localhost:8080/"
        },
        "id": "ocke5CLhzZ_z",
        "outputId": "4d5e882d-ad62-49fe-8e96-11c118087b43"
      },
      "execution_count": null,
      "outputs": [
        {
          "output_type": "stream",
          "name": "stdout",
          "text": [
            "76\n"
          ]
        }
      ]
    },
    {
      "cell_type": "code",
      "source": [
        "val_loss_list = history.history[\"val_loss\"]\n",
        "print(val_loss_list)\n",
        "\n",
        "loss_list = history.history[\"loss\"]\n",
        "print(loss_list)\n",
        "len(val_loss_list),len(loss_list)"
      ],
      "metadata": {
        "colab": {
          "base_uri": "https://localhost:8080/"
        },
        "id": "ZyuJiCcKUGeR",
        "outputId": "73b0fa6c-97b5-4d40-8f23-94717d70cd2b"
      },
      "execution_count": null,
      "outputs": [
        {
          "output_type": "stream",
          "name": "stdout",
          "text": [
            "[11.706568717956543, 9.43731689453125, 7.455863952636719, 5.697911262512207, 4.6675825119018555, 3.82129168510437, 3.3872506618499756, 3.1136553287506104, 2.895379066467285, 2.852592706680298, 2.6257147789001465, 2.666536808013916, 2.4355359077453613, 2.4286088943481445, 2.3400588035583496, 2.292853593826294, 2.288797616958618, 2.2447409629821777, 2.2066421508789062, 2.176814317703247]\n",
            "[13.69798469543457, 10.576360702514648, 8.858271598815918, 7.0792460441589355, 5.718396186828613, 4.860259532928467, 4.280982494354248, 3.8947982788085938, 3.6074934005737305, 3.3743350505828857, 3.1847479343414307, 3.0204923152923584, 2.8859779834747314, 2.7686023712158203, 2.6696078777313232, 2.586311101913452, 2.502948045730591, 2.442404270172119, 2.3760952949523926, 2.3150739669799805]\n"
          ]
        },
        {
          "output_type": "execute_result",
          "data": {
            "text/plain": [
              "(20, 20)"
            ]
          },
          "metadata": {},
          "execution_count": 36
        }
      ]
    },
    {
      "cell_type": "code",
      "source": [
        "# graph \n",
        "# loss vs vad_loss graph\n",
        "plot_list = [1, 2, 3, 4, 5, 6, 7, 8, 9, 10, 11, 12, 13, 14, 15, 16, 17, 18, 19, 20]\n",
        "plt.plot(plot_list, loss_list,label=\"loss\")\n",
        "plt.plot(plot_list, val_loss_list,label=\"var_loss\")\n",
        "plt.legend()\n",
        "# plt.show()"
      ],
      "metadata": {
        "colab": {
          "base_uri": "https://localhost:8080/",
          "height": 282
        },
        "id": "I9SVbDygVbzC",
        "outputId": "6ad5ccf1-4caf-4265-dbc5-ab7e564b7bf5"
      },
      "execution_count": null,
      "outputs": [
        {
          "output_type": "execute_result",
          "data": {
            "text/plain": [
              "<matplotlib.legend.Legend at 0x7f7a6a956650>"
            ]
          },
          "metadata": {},
          "execution_count": 45
        },
        {
          "output_type": "display_data",
          "data": {
            "text/plain": [
              "<Figure size 432x288 with 1 Axes>"
            ],
            "image/png": "[encoded data removed]"
          },
          "metadata": {
            "needs_background": "light"
          }
        }
      ]
    },
    {
      "cell_type": "code",
      "source": [
        "# input_img = plt.imread(\"data/words/e04/e04-030/e04-030-04-08.png\")\n",
        "# input_img\n",
        "\n",
        "# ppi = preprocess_image(\"data/words/e04/e04-030/e04-030-04-08.png\")\n",
        "# # ppi\n",
        "\n",
        "# plt.imread(ppi)\n",
        "import matplotlib.image as mpimg \n",
        "\n",
        "input_img = mpimg.imread('data/words/e04/e04-030/e04-030-04-08.png') \n",
        "plt.imshow(input_img,cmap=\"gray\")\n",
        "\n",
        "# img_size_custom=(image_width, image_height)\n",
        "# image = distortion_free_resize(input_img, img_size_custom)\n",
        "# print(input_img.get_shape().ndims)\n",
        "# plt.imshow(image)\n",
        "# fig, ax = plt.subplots() \n",
        "# ax.imshow(ppi) \n",
        "# ax.axis('off') \n",
        "\n",
        "# def preprocess_image(image_path, img_size=(image_width, image_height)):\n",
        "#     image = tf.io.read_file(image_path)\n",
        "#     image = tf.image.decode_png(image, 1)\n",
        "#     image = distortion_free_resize(image, img_size)\n",
        "#     image = tf.cast(image, tf.float32) / 255.0\n",
        "#     return image\n",
        "\n",
        "# preds = prediction_model.predict(input_img)\n",
        "# pred_texts = decode_batch_predictions(preds)\n",
        "# print(pred_texts)\n",
        "# img = tf.image.flip_left_right(input_img)\n",
        "# img = tf.transpose(img, perm=[1, 0, 2])\n",
        "# img = (img * 255.0).numpy().clip(0, 255).astype(np.uint8)\n",
        "# img = img[:, :, 0]\n",
        " \n",
        "# plt.show() "
      ],
      "metadata": {
        "colab": {
          "base_uri": "https://localhost:8080/",
          "height": 176
        },
        "id": "JF6AoIlddr3H",
        "outputId": "a0adeea9-5b9c-4b5e-f628-9f4322888b0a"
      },
      "execution_count": null,
      "outputs": [
        {
          "output_type": "execute_result",
          "data": {
            "text/plain": [
              "<matplotlib.image.AxesImage at 0x7f27a47075d0>"
            ]
          },
          "metadata": {},
          "execution_count": 57
        },
        {
          "output_type": "display_data",
          "data": {
            "text/plain": [
              "<Figure size 432x288 with 1 Axes>"
            ],
            "image/png": "[encoded data removed]"
          },
          "metadata": {
            "needs_background": "light"
          }
        }
      ]
    },
    {
      "cell_type": "markdown",
      "metadata": {
        "id": "N56LRHK-0DaU"
      },
      "source": [
        "To get better results the model should be trained for at least 50 epochs."
      ]
    },
    {
      "cell_type": "markdown",
      "metadata": {
        "id": "CyGe85Pm0DaU"
      },
      "source": [
        "## Final remarks\n",
        "\n",
        "* The `prediction_model` is fully compatible with TensorFlow Lite. If you are interested,\n",
        "you can use it inside a mobile application. You may find\n",
        "[this notebook](https://github.com/tulasiram58827/ocr_tflite/blob/main/colabs/captcha_ocr_tflite.ipynb)\n",
        "to be useful in this regard.\n",
        "* Not all the training examples are perfectly aligned as observed in this example. This\n",
        "can hurt model performance for complex sequences. To this end, we can leverage\n",
        "Spatial Transformer Networks ([Jaderberg et al.](https://arxiv.org/abs/1506.02025))\n",
        "that can help the model learn affine transformations that maximize its performance."
      ]
    }
  ],
  "metadata": {
    "colab": {
      "provenance": []
    },
    "kernelspec": {
      "display_name": "Python 3",
      "language": "python",
      "name": "python3"
    },
    "language_info": {
      "codemirror_mode": {
        "name": "ipython",
        "version": 3
      },
      "file_extension": ".py",
      "mimetype": "text/x-python",
      "name": "python",
      "nbconvert_exporter": "python",
      "pygments_lexer": "ipython3",
      "version": "3.7.0"
    },
    "accelerator": "GPU",
    "gpuClass": "standard"
  },
  "nbformat": 4,
  "nbformat_minor": 0
}